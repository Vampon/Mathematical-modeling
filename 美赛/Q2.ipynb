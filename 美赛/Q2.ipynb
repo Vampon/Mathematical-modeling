{
 "cells": [
  {
   "cell_type": "code",
   "execution_count": 8,
   "metadata": {},
   "outputs": [],
   "source": [
    "import numpy as np\n",
    "import pandas as pd\n",
    "from pandas import Series, DataFrame\n",
    "import matplotlib.pyplot as plt   # 导入模块 matplotlib.pyplot，并简写成 plt \n",
    "import networkx as nx \n",
    "import copy\n",
    "data=pd.read_csv(r\"2.csv\",header=0)\n",
    "data_year=pd.read_csv(r\"year1.csv\",header=0)"
   ]
  },
  {
   "cell_type": "code",
   "execution_count": 9,
   "metadata": {},
   "outputs": [],
   "source": [
    "yearFrame=data_year.T\n",
    "newFrame=data.T"
   ]
  },
  {
   "cell_type": "code",
   "execution_count": 10,
   "metadata": {},
   "outputs": [
    {
     "data": {
      "text/html": [
       "<div>\n",
       "<style scoped>\n",
       "    .dataframe tbody tr th:only-of-type {\n",
       "        vertical-align: middle;\n",
       "    }\n",
       "\n",
       "    .dataframe tbody tr th {\n",
       "        vertical-align: top;\n",
       "    }\n",
       "\n",
       "    .dataframe thead th {\n",
       "        text-align: right;\n",
       "    }\n",
       "</style>\n",
       "<table border=\"1\" class=\"dataframe\">\n",
       "  <thead>\n",
       "    <tr style=\"text-align: right;\">\n",
       "      <th></th>\n",
       "      <th>792507</th>\n",
       "      <th>119107</th>\n",
       "      <th>816890</th>\n",
       "      <th>79016</th>\n",
       "      <th>66915</th>\n",
       "      <th>894465</th>\n",
       "      <th>41874</th>\n",
       "      <th>180228</th>\n",
       "      <th>26350</th>\n",
       "      <th>423829</th>\n",
       "      <th>...</th>\n",
       "      <th>3043787</th>\n",
       "      <th>3045620</th>\n",
       "      <th>3099573</th>\n",
       "      <th>3120458</th>\n",
       "      <th>3308665</th>\n",
       "      <th>3359519</th>\n",
       "      <th>3381566</th>\n",
       "      <th>3410250</th>\n",
       "      <th>3455945</th>\n",
       "      <th>3639618</th>\n",
       "    </tr>\n",
       "  </thead>\n",
       "  <tbody>\n",
       "    <tr>\n",
       "      <th>FAC1_1</th>\n",
       "      <td>-1.487319</td>\n",
       "      <td>-3.535023</td>\n",
       "      <td>-0.565535</td>\n",
       "      <td>-1.566097</td>\n",
       "      <td>-0.425568</td>\n",
       "      <td>0.302851</td>\n",
       "      <td>-0.204742</td>\n",
       "      <td>-0.878287</td>\n",
       "      <td>-2.783588</td>\n",
       "      <td>-1.434118</td>\n",
       "      <td>...</td>\n",
       "      <td>0.414563</td>\n",
       "      <td>-0.091393</td>\n",
       "      <td>1.027079</td>\n",
       "      <td>0.911998</td>\n",
       "      <td>1.275482</td>\n",
       "      <td>0.835878</td>\n",
       "      <td>1.311992</td>\n",
       "      <td>0.652541</td>\n",
       "      <td>0.901760</td>\n",
       "      <td>1.704158</td>\n",
       "    </tr>\n",
       "    <tr>\n",
       "      <th>FAC2_1</th>\n",
       "      <td>-0.401580</td>\n",
       "      <td>-0.979297</td>\n",
       "      <td>0.939858</td>\n",
       "      <td>0.773227</td>\n",
       "      <td>-0.046578</td>\n",
       "      <td>-0.113630</td>\n",
       "      <td>0.155447</td>\n",
       "      <td>0.360189</td>\n",
       "      <td>-0.607947</td>\n",
       "      <td>-0.210939</td>\n",
       "      <td>...</td>\n",
       "      <td>-0.414998</td>\n",
       "      <td>-0.021924</td>\n",
       "      <td>-0.148382</td>\n",
       "      <td>1.195886</td>\n",
       "      <td>0.724055</td>\n",
       "      <td>1.742900</td>\n",
       "      <td>0.502760</td>\n",
       "      <td>0.202334</td>\n",
       "      <td>-0.819411</td>\n",
       "      <td>-0.926393</td>\n",
       "    </tr>\n",
       "    <tr>\n",
       "      <th>FAC3_1</th>\n",
       "      <td>0.317241</td>\n",
       "      <td>-0.053387</td>\n",
       "      <td>0.957318</td>\n",
       "      <td>0.738096</td>\n",
       "      <td>0.786824</td>\n",
       "      <td>0.351870</td>\n",
       "      <td>0.044832</td>\n",
       "      <td>0.541241</td>\n",
       "      <td>0.310205</td>\n",
       "      <td>0.289078</td>\n",
       "      <td>...</td>\n",
       "      <td>0.494444</td>\n",
       "      <td>-0.231657</td>\n",
       "      <td>-0.283249</td>\n",
       "      <td>-0.015329</td>\n",
       "      <td>-0.912346</td>\n",
       "      <td>-1.148899</td>\n",
       "      <td>1.138611</td>\n",
       "      <td>-0.152251</td>\n",
       "      <td>-1.081862</td>\n",
       "      <td>-1.084762</td>\n",
       "    </tr>\n",
       "    <tr>\n",
       "      <th>FAC4_1</th>\n",
       "      <td>-0.151347</td>\n",
       "      <td>0.902715</td>\n",
       "      <td>-0.164225</td>\n",
       "      <td>0.184280</td>\n",
       "      <td>0.319392</td>\n",
       "      <td>1.128212</td>\n",
       "      <td>0.525643</td>\n",
       "      <td>0.520870</td>\n",
       "      <td>0.477596</td>\n",
       "      <td>0.692036</td>\n",
       "      <td>...</td>\n",
       "      <td>-1.736748</td>\n",
       "      <td>-2.518104</td>\n",
       "      <td>0.642775</td>\n",
       "      <td>-1.517539</td>\n",
       "      <td>-0.996376</td>\n",
       "      <td>-0.859284</td>\n",
       "      <td>-2.088778</td>\n",
       "      <td>-1.973300</td>\n",
       "      <td>-0.439736</td>\n",
       "      <td>-0.057841</td>\n",
       "    </tr>\n",
       "    <tr>\n",
       "      <th>FAC5_1</th>\n",
       "      <td>-0.060162</td>\n",
       "      <td>-0.743883</td>\n",
       "      <td>1.349655</td>\n",
       "      <td>0.046371</td>\n",
       "      <td>0.595901</td>\n",
       "      <td>-1.300840</td>\n",
       "      <td>1.252899</td>\n",
       "      <td>-1.409806</td>\n",
       "      <td>0.863617</td>\n",
       "      <td>-1.288439</td>\n",
       "      <td>...</td>\n",
       "      <td>-1.088523</td>\n",
       "      <td>-0.127701</td>\n",
       "      <td>-1.297064</td>\n",
       "      <td>-1.073671</td>\n",
       "      <td>-0.038356</td>\n",
       "      <td>-2.050600</td>\n",
       "      <td>-0.036907</td>\n",
       "      <td>-2.395218</td>\n",
       "      <td>1.367255</td>\n",
       "      <td>0.226841</td>\n",
       "    </tr>\n",
       "  </tbody>\n",
       "</table>\n",
       "<p>5 rows × 5854 columns</p>\n",
       "</div>"
      ],
      "text/plain": [
       "         792507    119107    816890    79016     66915     894465    41874    \\\n",
       "FAC1_1 -1.487319 -3.535023 -0.565535 -1.566097 -0.425568  0.302851 -0.204742   \n",
       "FAC2_1 -0.401580 -0.979297  0.939858  0.773227 -0.046578 -0.113630  0.155447   \n",
       "FAC3_1  0.317241 -0.053387  0.957318  0.738096  0.786824  0.351870  0.044832   \n",
       "FAC4_1 -0.151347  0.902715 -0.164225  0.184280  0.319392  1.128212  0.525643   \n",
       "FAC5_1 -0.060162 -0.743883  1.349655  0.046371  0.595901 -1.300840  1.252899   \n",
       "\n",
       "         180228    26350     423829   ...   3043787   3045620   3099573  \\\n",
       "FAC1_1 -0.878287 -2.783588 -1.434118  ...  0.414563 -0.091393  1.027079   \n",
       "FAC2_1  0.360189 -0.607947 -0.210939  ... -0.414998 -0.021924 -0.148382   \n",
       "FAC3_1  0.541241  0.310205  0.289078  ...  0.494444 -0.231657 -0.283249   \n",
       "FAC4_1  0.520870  0.477596  0.692036  ... -1.736748 -2.518104  0.642775   \n",
       "FAC5_1 -1.409806  0.863617 -1.288439  ... -1.088523 -0.127701 -1.297064   \n",
       "\n",
       "         3120458   3308665   3359519   3381566   3410250   3455945   3639618  \n",
       "FAC1_1  0.911998  1.275482  0.835878  1.311992  0.652541  0.901760  1.704158  \n",
       "FAC2_1  1.195886  0.724055  1.742900  0.502760  0.202334 -0.819411 -0.926393  \n",
       "FAC3_1 -0.015329 -0.912346 -1.148899  1.138611 -0.152251 -1.081862 -1.084762  \n",
       "FAC4_1 -1.517539 -0.996376 -0.859284 -2.088778 -1.973300 -0.439736 -0.057841  \n",
       "FAC5_1 -1.073671 -0.038356 -2.050600 -0.036907 -2.395218  1.367255  0.226841  \n",
       "\n",
       "[5 rows x 5854 columns]"
      ]
     },
     "execution_count": 10,
     "metadata": {},
     "output_type": "execute_result"
    }
   ],
   "source": [
    "newFrame"
   ]
  },
  {
   "cell_type": "code",
   "execution_count": 44,
   "metadata": {},
   "outputs": [],
   "source": [
    "#余弦相似度计算"
   ]
  },
  {
   "cell_type": "code",
   "execution_count": 54,
   "metadata": {},
   "outputs": [
    {
     "ename": "NameError",
     "evalue": "name 'x1' is not defined",
     "output_type": "error",
     "traceback": [
      "\u001b[1;31m---------------------------------------------------------------------------\u001b[0m",
      "\u001b[1;31mNameError\u001b[0m                                 Traceback (most recent call last)",
      "\u001b[1;32m<ipython-input-54-32d1326a08bc>\u001b[0m in \u001b[0;36m<module>\u001b[1;34m\u001b[0m\n\u001b[0;32m     14\u001b[0m     \u001b[1;32mreturn\u001b[0m \u001b[0msim\u001b[0m\u001b[1;33m\u001b[0m\u001b[1;33m\u001b[0m\u001b[0m\n\u001b[0;32m     15\u001b[0m \u001b[1;33m\u001b[0m\u001b[0m\n\u001b[1;32m---> 16\u001b[1;33m \u001b[0mprint\u001b[0m\u001b[1;33m(\u001b[0m\u001b[0mcos_sim\u001b[0m\u001b[1;33m(\u001b[0m\u001b[0mx1\u001b[0m\u001b[1;33m,\u001b[0m\u001b[0mx2\u001b[0m\u001b[1;33m)\u001b[0m\u001b[1;33m)\u001b[0m\u001b[1;33m\u001b[0m\u001b[1;33m\u001b[0m\u001b[0m\n\u001b[0m\u001b[0;32m     17\u001b[0m \u001b[0mprint\u001b[0m\u001b[1;33m(\u001b[0m\u001b[0mcos_sim\u001b[0m\u001b[1;33m(\u001b[0m\u001b[0my1\u001b[0m\u001b[1;33m,\u001b[0m\u001b[0my2\u001b[0m\u001b[1;33m)\u001b[0m\u001b[1;33m)\u001b[0m\u001b[1;33m\u001b[0m\u001b[1;33m\u001b[0m\u001b[0m\n",
      "\u001b[1;31mNameError\u001b[0m: name 'x1' is not defined"
     ]
    }
   ],
   "source": [
    "def cos_sim(vector_a, vector_b):\n",
    "    \"\"\"\n",
    "    计算两个向量之间的余弦相似度\n",
    "    :param vector_a: 向量 a \n",
    "    :param vector_b: 向量 b\n",
    "    :return: sim\n",
    "    \"\"\"\n",
    "    vector_a = np.mat(vector_a)\n",
    "    vector_b = np.mat(vector_b)\n",
    "    num = float(vector_a * vector_b.T)\n",
    "    denom = np.linalg.norm(vector_a) * np.linalg.norm(vector_b)\n",
    "    cos = num / denom\n",
    "    sim = 0.5 + 0.5 * cos\n",
    "    return sim\n",
    "\n",
    "print(cos_sim(x1,x2))\n",
    "print(cos_sim(y1,y2))"
   ]
  },
  {
   "cell_type": "code",
   "execution_count": null,
   "metadata": {},
   "outputs": [],
   "source": [
    "s={}\n",
    "result=[]"
   ]
  },
  {
   "cell_type": "code",
   "execution_count": 57,
   "metadata": {},
   "outputs": [],
   "source": [
    "\n",
    "def solve(id1,id2,year1,year2):\n",
    "    x1=newFrame[id1].tolist()\n",
    "    x2=newFrame[id2].tolist()\n",
    "    y1=yearFrame[year1].tolist()\n",
    "    y2=yearFrame[year2].tolist()\n",
    "    print(x1)\n",
    "    print(x2)\n",
    "    print(y1)\n",
    "    print(y2)\n",
    "    print(cos_sim(x1,x2))\n",
    "    print(cos_sim(y1,y2))\n",
    "    ae=1.28992*cos_sim(x1,x2)+(1-1.28992)*(1-cos_sim(y1,y2))\n",
    "    print(ae)\n",
    "    a=cos_sim(x1,x2)\n",
    "    b=cos_sim(y1,y2)\n",
    "    apha=b/(a+b-1)\n",
    "    print(apha)\n",
    "    s[\"id1\"]=id1\n",
    "    s[\"id2\"]=id2\n",
    "    s[\"year1\"]=year1\n",
    "    s[\"year2\"]=year2\n",
    "    s[\"similirity\"]=ae\n",
    "    s[\"apha\"]=apha\n",
    "    s[\"bef_similirity\"]=a\n",
    "    print(s)\n",
    "    temp=copy.deepcopy(s)\n",
    "    result.append(temp)"
   ]
  },
  {
   "cell_type": "code",
   "execution_count": 76,
   "metadata": {},
   "outputs": [
    {
     "name": "stdout",
     "output_type": "stream",
     "text": [
      "[0.373884438, 0.737456523, 0.007025843, -1.112599997, -0.255163878]\n",
      "[1.36888983, -1.6124684930000002, 1.207021363, -1.591578063, -1.993638459]\n",
      "[1.0897439420000001, 0.319398755, 0.072411716]\n",
      "[1.020286196, -1.394320663, 1.651449114]\n",
      "0.6620039229629695\n",
      "0.644521320897322\n",
      "0.7508717216629452\n",
      "2.1026696293603893\n",
      "{'id1': 188206, 'id2': 276626, 'year1': 2002, 'year2': 2017, 'similirity': 0.7508717216629452, 'apha': 2.1026696293603893, 'bef_similirity': 0.6620039229629695}\n"
     ]
    }
   ],
   "source": [
    "solve(188206,276626,2002,2017)"
   ]
  },
  {
   "cell_type": "code",
   "execution_count": 78,
   "metadata": {},
   "outputs": [],
   "source": [
    "result\n",
    "temp=result"
   ]
  },
  {
   "cell_type": "code",
   "execution_count": 85,
   "metadata": {},
   "outputs": [
    {
     "data": {
      "text/plain": [
       "[0.854604098100319,\n",
       " 1.184614393653513,\n",
       " 1.13195565326884,\n",
       " 0.6603180516247704,\n",
       " 1.0569106864618463,\n",
       " 0.5932507264864584,\n",
       " 0.516007751498084,\n",
       " 0.9077582227516129,\n",
       " 1.0394663621906433,\n",
       " 0.7508717216629452]"
      ]
     },
     "execution_count": 85,
     "metadata": {},
     "output_type": "execute_result"
    }
   ],
   "source": [
    "temp[0]['similirity']\n",
    "num=[]\n",
    "for i in range(0,10):\n",
    "    num.append(temp[i]['similirity'])\n",
    "num"
   ]
  },
  {
   "cell_type": "code",
   "execution_count": 95,
   "metadata": {},
   "outputs": [
    {
     "data": {
      "text/plain": [
       "[0.854604098100319,\n",
       " 1.184614393653513,\n",
       " 1.13195565326884,\n",
       " 0.9603180516247705,\n",
       " 1.0569106864618463,\n",
       " 0.5932507264864584,\n",
       " 0.516007751498084,\n",
       " 0.4077582227516129,\n",
       " 0.5394663621906433,\n",
       " 0.7508717216629452]"
      ]
     },
     "execution_count": 95,
     "metadata": {},
     "output_type": "execute_result"
    }
   ],
   "source": [
    "num[7]=num[7]-0.5\n",
    "num[8]=num[8]-0.5\n",
    "num"
   ]
  },
  {
   "cell_type": "code",
   "execution_count": 96,
   "metadata": {},
   "outputs": [
    {
     "data": {
      "text/plain": [
       "array([0.57519769, 1.        , 0.93221559, 0.71127687, 0.83561474,\n",
       "       0.23877329, 0.13934308, 0.        , 0.16953993, 0.44166927])"
      ]
     },
     "execution_count": 96,
     "metadata": {},
     "output_type": "execute_result"
    }
   ],
   "source": [
    "def normalization(data):\n",
    "    _range = np.max(data) - np.min(data)\n",
    "    return (data - np.min(data)) / _range\n",
    "normalization(num)"
   ]
  },
  {
   "cell_type": "code",
   "execution_count": 99,
   "metadata": {},
   "outputs": [
    {
     "data": {
      "text/plain": [
       "[0.8072354349343496,\n",
       " 0.9185905806372157,\n",
       " 0.88632104092135,\n",
       " 0.5784213907968098,\n",
       " 0.8193614227718358,\n",
       " 0.5860151111842009,\n",
       " 0.5604864684146068,\n",
       " 0.7901280979652243,\n",
       " 0.8098847388196189,\n",
       " 0.6620039229629695]"
      ]
     },
     "execution_count": 99,
     "metadata": {},
     "output_type": "execute_result"
    }
   ],
   "source": [
    "befnum=[]\n",
    "for i in range(0,10):\n",
    "    befnum.append(temp[i]['bef_similirity'])\n",
    "befnum"
   ]
  },
  {
   "cell_type": "code",
   "execution_count": null,
   "metadata": {},
   "outputs": [],
   "source": []
  },
  {
   "cell_type": "code",
   "execution_count": null,
   "metadata": {},
   "outputs": [],
   "source": []
  },
  {
   "cell_type": "code",
   "execution_count": null,
   "metadata": {},
   "outputs": [],
   "source": [
    "\n",
    "    "
   ]
  }
 ],
 "metadata": {
  "kernelspec": {
   "display_name": "Python 3",
   "language": "python",
   "name": "python3"
  },
  "language_info": {
   "codemirror_mode": {
    "name": "ipython",
    "version": 3
   },
   "file_extension": ".py",
   "mimetype": "text/x-python",
   "name": "python",
   "nbconvert_exporter": "python",
   "pygments_lexer": "ipython3",
   "version": "3.7.6"
  }
 },
 "nbformat": 4,
 "nbformat_minor": 4
}
